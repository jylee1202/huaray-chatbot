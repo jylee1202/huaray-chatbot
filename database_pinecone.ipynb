{
 "cells": [
  {
   "cell_type": "markdown",
   "id": "9f28e435",
   "metadata": {},
   "source": [
    "1. Load the GigE/10GigE camera PDF manual\n",
    "2. Split the text into manageable chunks to avoid overly long prompts\n",
    "3. Embed each chunk and upsert to the Pinecone index\n",
    "4. Retrieve the most relevant chunks for a user question\n",
    "5. Send the retrieved context to the LLM with the question\n"
   ]
  },
  {
   "cell_type": "code",
   "execution_count": null,
   "id": "f1c0353d",
   "metadata": {},
   "outputs": [],
   "source": [
    "from langchain_community.document_loaders import PyPDFLoader\n",
    "from langchain_text_splitters import RecursiveCharacterTextSplitter\n",
    "\n",
    "loader = PyPDFLoader(\"GigE (10GigE) Area Scan Camera_User's Manual_V1.0.0.pdf\")\n",
    "documents = loader.load()\n",
    "\n",
    "text_splitter = RecursiveCharacterTextSplitter(\n",
    "    chunk_size=1500,\n",
    "    chunk_overlap=200,\n",
    ")\n",
    "\n",
    "document_list = text_splitter.split_documents(documents)\n",
    "len(document_list)\n"
   ]
  },
  {
   "cell_type": "code",
   "execution_count": 2,
   "id": "ab23d20d",
   "metadata": {},
   "outputs": [],
   "source": [
    "from dotenv import load_dotenv\n",
    "from langchain_openai import OpenAIEmbeddings\n",
    "\n",
    "load_dotenv()\n",
    "\n",
    "embedding = OpenAIEmbeddings(model='text-embedding-3-large')"
   ]
  },
  {
   "cell_type": "code",
   "execution_count": null,
   "id": "5a066f93",
   "metadata": {},
   "outputs": [
    {
     "name": "stderr",
     "output_type": "stream",
     "text": [
      "c:\\Users\\dlwnd\\project\\inflearn-llm-application\\inflearn-llm-application\\Lib\\site-packages\\tqdm\\auto.py:21: TqdmWarning: IProgress not found. Please update jupyter and ipywidgets. See https://ipywidgets.readthedocs.io/en/stable/user_install.html\n",
      "  from .autonotebook import tqdm as notebook_tqdm\n",
      "c:\\Users\\dlwnd\\project\\inflearn-llm-application\\inflearn-llm-application\\Lib\\site-packages\\langchain_pinecone\\__init__.py:3: LangChainDeprecationWarning: As of langchain-core 0.3.0, LangChain uses pydantic v2 internally. The langchain_core.pydantic_v1 module was a compatibility shim for pydantic v1, and should no longer be used. Please update the code to import from Pydantic directly.\n",
      "\n",
      "For example, replace imports like: `from langchain_core.pydantic_v1 import BaseModel`\n",
      "with: `from pydantic import BaseModel`\n",
      "or the v1 compatibility namespace if you are working in a code base that has not been fully upgraded to pydantic 2 yet. \tfrom pydantic.v1 import BaseModel\n",
      "\n",
      "  from langchain_pinecone.vectorstores import Pinecone, PineconeVectorStore\n"
     ]
    }
   ],
   "source": [
    "import os\n",
    "\n",
    "from pinecone import Pinecone\n",
    "from langchain_pinecone import PineconeVectorStore\n",
    "\n",
    "from config import PINECONE_INDEX_NAME\n",
    "\n",
    "index_name = PINECONE_INDEX_NAME\n",
    "pinecone_api_key = os.environ.get(\"PINECONE_API_KEY\")\n",
    "if not pinecone_api_key:\n",
    "    raise ValueError(\"Set the PINECONE_API_KEY environment variable before running this notebook.\")\n",
    "\n",
    "pc = Pinecone(api_key=pinecone_api_key)\n",
    "\n",
    "database = PineconeVectorStore.from_existing_index(index_name=index_name, embedding=embedding)\n",
    "upsert_ids = database.add_documents(document_list)\n",
    "upsert_ids[:3] if upsert_ids else upsert_ids\n"
   ]
  },
  {
   "cell_type": "code",
   "execution_count": 4,
   "id": "72334ae6",
   "metadata": {},
   "outputs": [
    {
     "data": {
      "text/plain": [
       "'from langchain_chroma import Chroma\\n\\ndatabase = Chroma.from_documents(documents=document_list, embedding=embedding, collection_name=\"chroma-tax\", persist_directory=\"./chroma\")\\ndatabase = Chroma(collection_name=\"chroma-tax\", persist_directory=\"./chroma\", embedding_function=embedding)'"
      ]
     },
     "execution_count": 4,
     "metadata": {},
     "output_type": "execute_result"
    }
   ],
   "source": [
    "\"\"\"from langchain_chroma import Chroma\n",
    "\n",
    "database = Chroma.from_documents(documents=document_list, embedding=embedding, collection_name=\"chroma-tax\", persist_directory=\"./chroma\")\n",
    "database = Chroma(collection_name=\"chroma-tax\", persist_directory=\"./chroma\", embedding_function=embedding)\"\"\""
   ]
  },
  {
   "cell_type": "code",
   "execution_count": null,
   "id": "c8dede79",
   "metadata": {},
   "outputs": [],
   "source": [
    "from langchain_openai import ChatOpenAI\n",
    "\n",
    "llm = ChatOpenAI(model = \"gpt-4o\")"
   ]
  },
  {
   "cell_type": "code",
   "execution_count": 6,
   "id": "601129c7",
   "metadata": {},
   "outputs": [],
   "source": [
    "from langchain import hub\n",
    "\n",
    "prompt = hub.pull(\"rlm/rag-prompt\")"
   ]
  },
  {
   "cell_type": "code",
   "execution_count": 7,
   "id": "863fbcba",
   "metadata": {},
   "outputs": [],
   "source": [
    "from langchain.chains import RetrievalQA\n",
    "retriever = database.as_retriever()\n",
    "qa_chain = RetrievalQA.from_chain_type(\n",
    "    llm,\n",
    "    retriever = retriever,\n",
    "    chain_type_kwargs = {\"prompt\" : prompt}\n",
    ")"
   ]
  },
  {
   "cell_type": "code",
   "execution_count": 8,
   "id": "6995b17d",
   "metadata": {},
   "outputs": [],
   "source": [
    "from langchain_core.output_parsers import StrOutputParser\n",
    "from langchain_core.prompts import ChatPromptTemplate\n",
    "\n",
    "dictionary = [\n",
    "    \"초보자 -> Beginner\",\n",
    "    \"전문가 -> Expert\",\n",
    "    \"구루 -> Guru\",\n",
    "    \"프레임 속도 -> Frame Rate\",\n",
    "    \"프레임 수 -> AcquisitionFrameCount\",\n",
    "]\n",
    "\n",
    "prompt = ChatPromptTemplate.from_template(\n",
    "    \"사용자의 질문을 보고, 사전을 참고해 GigE 카메라 관련 용어를 통일해주세요.\n\"\n",
    "    \"변경할 필요가 없다고 판단되면 질문을 그대로 반환하세요.\n\"\n",
    "    \"사전: {dictionary}\n\n질문: {question}\"\n",
    ")\n",
    "\n",
    "dictionary_chain = prompt | llm | StrOutputParser()\n",
    "camera_chain = {\"query\": dictionary_chain} | qa_chain\n"
   ]
  },
  {
   "cell_type": "code",
   "execution_count": 9,
   "id": "ca76e677",
   "metadata": {},
   "outputs": [
    {
     "data": {
      "text/plain": [
       "[Document(id='07ac5bc0-6356-46b8-817e-b4120ba66292', metadata={'source': './tax_docs/tax_with_markdown.docx'}, page_content='② 제1항에 따른 원천징수의무자는 이자소득 또는 배당소득의 지급금액이 대통령령으로 정하는 금액 이하인 경우에는 제1항에 따른 원천징수영수증을 발급하지 아니할 수 있다. 다만, 제133조의2제1항에 따라 원천징수영수증을 발급하는 경우와 이자소득 또는 배당소득을 받는 자가 원천징수영수증의 발급을 요구하는 경우에는 제1항에 따라 원천징수영수증을 발급하거나 통지하여야 한다.\\n\\n[전문개정 2009. 12. 31.]\\n\\n\\n\\n제133조의2(채권 등에 대한 원천징수 특례) ① 거주자 또는 비거주자가 채권등의 발행법인으로부터 이자등을 지급받거나 해당 채권등을 발행법인 또는 대통령령으로 정하는 법인(이하 이 항에서 “발행법인등”이라 한다)에게 매도하는 경우 그 채권등의 발행일 또는 직전 원천징수일을 시기(始期)로 하고, 이자등의 지급일 등 또는 채권등의 매도일 등을 종기(終期)로 하여 대통령령으로 정하는 기간계산방법에 따른 원천징수기간의 이자등 상당액을 제16조에 따른 이자소득으로 보고, 해당 채권등의 발행법인등을 원천징수의무자로 하며, 이자등의 지급일 등 또는 채권등의 매도일 등 대통령령으로 정하는 날을 원천징수 하는 때로 하여 제127조부터 제133조까지, 제164조 및 제164조의2의 규정을 적용한다. <개정 2010. 12. 27., 2013. 1. 1.>\\n\\n② 제1항에 따른 이자등 상당액의 계산방법과 제46조제1항에 따른 환매조건부채권매매거래 등의 경우의 원천징수에 관하여 필요한 사항은 대통령령으로 정한다.\\n\\n[본조신설 2009. 12. 31.]\\n\\n\\n\\n제3관 근로소득에 대한 원천징수 <개정 2009. 12. 31.>\\n\\n\\n\\n제134조(근로소득에 대한 원천징수시기 및 방법) ① 원천징수의무자가 매월분의 근로소득을 지급할 때에는 근로소득 간이세액표에 따라 소득세를 원천징수한다.\\n\\n② 원천징수의무자는 다음 각 호의 어느 하나에 해당할 때에는 제137조, 제137조의2 또는 제138조에 따라 소득세를 원천징수하며, 제1호의 경우 다음 연도 2월분의 근로소득에 대해서는 제1항에서 규정하는 바에 따라 소득세를 원천징수한다.<개정 2010. 12. 27.>\\n\\n1. 해당 과세기간의 다음 연도 2월분 근로소득을 지급할 때(2월분의 근로소득을 2월 말일까지 지급하지 아니하거나 2월분의 근로소득이 없는 경우에는 2월 말일로 한다. 이하 같다)\\n\\n2. 퇴직자가 퇴직하는 달의 근로소득을 지급할 때\\n\\n③ 원천징수의무자가 일용근로자의 근로소득을 지급할 때에는 그 근로소득에 근로소득공제를 적용한 금액에 원천징수세율을 적용하여 계산한 산출세액에서 근로소득세액공제를 적용한 소득세를 원천징수한다.\\n\\n④ 삭제<2010. 12. 27.>\\n\\n⑤ 근로소득자의 근무지가 변경됨에 따라 월급여액(月給與額)이 같은 고용주에 의하여 분할지급되는 경우의 소득세는 변경된 근무지에서 그 월급여액 전액에 대하여 제1항부터 제3항까지의 규정을 적용하여 원천징수하여야 한다.<개정 2010. 12. 27.>\\n\\n[전문개정 2009. 12. 31.]\\n\\n[제목개정 2010. 12. 27.]'),\n",
       " Document(id='dfedfbc3-b085-4606-a02b-a697da54e8c2', metadata={'source': './tax_docs/tax_with_markdown.docx'}, page_content='② 제1항에 따른 원천징수의무자는 이자소득 또는 배당소득의 지급금액이 대통령령으로 정하는 금액 이하인 경우에는 제1항에 따른 원천징수영수증을 발급하지 아니할 수 있다. 다만, 제133조의2제1항에 따라 원천징수영수증을 발급하는 경우와 이자소득 또는 배당소득을 받는 자가 원천징수영수증의 발급을 요구하는 경우에는 제1항에 따라 원천징수영수증을 발급하거나 통지하여야 한다.\\n\\n[전문개정 2009. 12. 31.]\\n\\n\\n\\n제133조의2(채권 등에 대한 원천징수 특례) ① 거주자 또는 비거주자가 채권등의 발행법인으로부터 이자등을 지급받거나 해당 채권등을 발행법인 또는 대통령령으로 정하는 법인(이하 이 항에서 “발행법인등”이라 한다)에게 매도하는 경우 그 채권등의 발행일 또는 직전 원천징수일을 시기(始期)로 하고, 이자등의 지급일 등 또는 채권등의 매도일 등을 종기(終期)로 하여 대통령령으로 정하는 기간계산방법에 따른 원천징수기간의 이자등 상당액을 제16조에 따른 이자소득으로 보고, 해당 채권등의 발행법인등을 원천징수의무자로 하며, 이자등의 지급일 등 또는 채권등의 매도일 등 대통령령으로 정하는 날을 원천징수 하는 때로 하여 제127조부터 제133조까지, 제164조 및 제164조의2의 규정을 적용한다. <개정 2010. 12. 27., 2013. 1. 1.>\\n\\n② 제1항에 따른 이자등 상당액의 계산방법과 제46조제1항에 따른 환매조건부채권매매거래 등의 경우의 원천징수에 관하여 필요한 사항은 대통령령으로 정한다.\\n\\n[본조신설 2009. 12. 31.]\\n\\n\\n\\n제3관 근로소득에 대한 원천징수 <개정 2009. 12. 31.>\\n\\n\\n\\n제134조(근로소득에 대한 원천징수시기 및 방법) ① 원천징수의무자가 매월분의 근로소득을 지급할 때에는 근로소득 간이세액표에 따라 소득세를 원천징수한다.\\n\\n② 원천징수의무자는 다음 각 호의 어느 하나에 해당할 때에는 제137조, 제137조의2 또는 제138조에 따라 소득세를 원천징수하며, 제1호의 경우 다음 연도 2월분의 근로소득에 대해서는 제1항에서 규정하는 바에 따라 소득세를 원천징수한다.<개정 2010. 12. 27.>\\n\\n1. 해당 과세기간의 다음 연도 2월분 근로소득을 지급할 때(2월분의 근로소득을 2월 말일까지 지급하지 아니하거나 2월분의 근로소득이 없는 경우에는 2월 말일로 한다. 이하 같다)\\n\\n2. 퇴직자가 퇴직하는 달의 근로소득을 지급할 때\\n\\n③ 원천징수의무자가 일용근로자의 근로소득을 지급할 때에는 그 근로소득에 근로소득공제를 적용한 금액에 원천징수세율을 적용하여 계산한 산출세액에서 근로소득세액공제를 적용한 소득세를 원천징수한다.\\n\\n④ 삭제<2010. 12. 27.>\\n\\n⑤ 근로소득자의 근무지가 변경됨에 따라 월급여액(月給與額)이 같은 고용주에 의하여 분할지급되는 경우의 소득세는 변경된 근무지에서 그 월급여액 전액에 대하여 제1항부터 제3항까지의 규정을 적용하여 원천징수하여야 한다.<개정 2010. 12. 27.>\\n\\n[전문개정 2009. 12. 31.]\\n\\n[제목개정 2010. 12. 27.]'),\n",
       " Document(id='8b56ecef-1cfc-4c1a-8ad5-6142815a328a', metadata={'source': './tax_docs/tax_with_markdown.docx'}, page_content='⑦ 제1항부터 제6항까지의 규정에 따라 원천징수를 하여야 할 자를 “원천징수의무자”라 한다.<개정 2010. 12. 27.>\\n\\n⑧ 원천징수의무자의 범위 등 그 밖에 필요한 사항은 대통령령으로 정한다.<신설 2013. 1. 1.>\\n\\n[제목개정 2009. 12. 31.]\\n\\n\\n\\n제127조(원천징수의무) ① 국내에서 거주자나 비거주자에게 다음 각 호의 어느 하나에 해당하는 소득을 지급하는 자(제3호 또는 제9호의 소득을 지급하는 자의 경우에는 사업자 등 대통령령으로 정하는 자로 한정한다)는 이 절의 규정에 따라 그 거주자나 비거주자에 대한 소득세를 원천징수하여야 한다. <개정 2009. 12. 31., 2010. 12. 27., 2015. 12. 15., 2020. 12. 29.>\\n\\n1. 이자소득\\n\\n2. 배당소득\\n\\n3. 대통령령으로 정하는 사업소득(이하 “원천징수대상 사업소득”이라 한다)\\n\\n4. 근로소득. 다만, 다음 각 목의 어느 하나에 해당하는 소득은 제외한다.\\n\\n가. 외국기관 또는 우리나라에 주둔하는 국제연합군(미군은 제외한다)으로부터 받는 근로소득\\n\\n나. 국외에 있는 비거주자 또는 외국법인(국내지점 또는 국내영업소는 제외한다)으로부터 받는 근로소득. 다만, 다음의 어느 하나에 해당하는 소득은 제외한다.\\n\\n\\u3000\\u3000\\u30001) 제120조제1항 및 제2항에 따른 비거주자의 국내사업장과 「법인세법」 제94조제1항 및 제2항에 따른 외국법인의 국내사업장의 국내원천소득금액을 계산할 때 필요경비 또는 손금으로 계상되는 소득\\n\\n\\u3000\\u3000\\u30002) 국외에 있는 외국법인(국내지점 또는 국내영업소는 제외한다)으로부터 받는 근로소득 중 제156조의7에 따라 소득세가 원천징수되는 파견근로자의 소득\\n\\n5. 연금소득\\n\\n6. 기타소득. 다만, 다음 각 목의 어느 하나에 해당하는 소득은 제외한다.\\n\\n가. 제8호에 따른 소득\\n\\n나. 제21조제1항제10호에 따른 위약금ㆍ배상금(계약금이 위약금ㆍ배상금으로 대체되는 경우만 해당한다)\\n\\n다. 제21조제1항제23호, 제24호 또는 제27호에 따른 소득\\n\\n7. 퇴직소득. 다만, 제4호 각 목의 어느 하나에 해당하는 근로소득이 있는 사람이 퇴직함으로써 받는 소득은 제외한다.\\n\\n8. 대통령령으로 정하는 봉사료\\n\\n9. 대통령령으로 정하는 금융투자소득\\n\\n② 제1항에 따른 원천징수를 하여야 할 자(제1항제3호에 따른 소득의 경우에는 사업자 등 대통령령으로 정하는 자로 한정한다)를 대리하거나 그 위임을 받은 자의 행위는 수권(授權) 또는 위임의 범위에서 본인 또는 위임인의 행위로 보아 제1항을 적용한다.<개정 2009. 12. 31., 2010. 12. 27.>\\n\\n③ 금융회사등이 내국인이 발행한 어음, 채무증서, 주식 또는 집합투자증권(이하 이 조에서 “어음등”이라 한다)을 인수ㆍ매매ㆍ중개 또는 대리하는 경우에는 그 금융회사등과 해당 어음등을 발행한 자 간에 대리 또는 위임의 관계가 있는 것으로 보아 제2항을 적용한다.<개정 2010. 12. 27.>'),\n",
       " Document(id='a61b16cb-3ce3-4696-a62e-57a1c008e554', metadata={'source': './tax_docs/tax_with_markdown.docx'}, page_content='⑦ 제1항부터 제6항까지의 규정에 따라 원천징수를 하여야 할 자를 “원천징수의무자”라 한다.<개정 2010. 12. 27.>\\n\\n⑧ 원천징수의무자의 범위 등 그 밖에 필요한 사항은 대통령령으로 정한다.<신설 2013. 1. 1.>\\n\\n[제목개정 2009. 12. 31.]\\n\\n\\n\\n제127조(원천징수의무) ① 국내에서 거주자나 비거주자에게 다음 각 호의 어느 하나에 해당하는 소득을 지급하는 자(제3호 또는 제9호의 소득을 지급하는 자의 경우에는 사업자 등 대통령령으로 정하는 자로 한정한다)는 이 절의 규정에 따라 그 거주자나 비거주자에 대한 소득세를 원천징수하여야 한다. <개정 2009. 12. 31., 2010. 12. 27., 2015. 12. 15., 2020. 12. 29.>\\n\\n1. 이자소득\\n\\n2. 배당소득\\n\\n3. 대통령령으로 정하는 사업소득(이하 “원천징수대상 사업소득”이라 한다)\\n\\n4. 근로소득. 다만, 다음 각 목의 어느 하나에 해당하는 소득은 제외한다.\\n\\n가. 외국기관 또는 우리나라에 주둔하는 국제연합군(미군은 제외한다)으로부터 받는 근로소득\\n\\n나. 국외에 있는 비거주자 또는 외국법인(국내지점 또는 국내영업소는 제외한다)으로부터 받는 근로소득. 다만, 다음의 어느 하나에 해당하는 소득은 제외한다.\\n\\n\\u3000\\u3000\\u30001) 제120조제1항 및 제2항에 따른 비거주자의 국내사업장과 「법인세법」 제94조제1항 및 제2항에 따른 외국법인의 국내사업장의 국내원천소득금액을 계산할 때 필요경비 또는 손금으로 계상되는 소득\\n\\n\\u3000\\u3000\\u30002) 국외에 있는 외국법인(국내지점 또는 국내영업소는 제외한다)으로부터 받는 근로소득 중 제156조의7에 따라 소득세가 원천징수되는 파견근로자의 소득\\n\\n5. 연금소득\\n\\n6. 기타소득. 다만, 다음 각 목의 어느 하나에 해당하는 소득은 제외한다.\\n\\n가. 제8호에 따른 소득\\n\\n나. 제21조제1항제10호에 따른 위약금ㆍ배상금(계약금이 위약금ㆍ배상금으로 대체되는 경우만 해당한다)\\n\\n다. 제21조제1항제23호, 제24호 또는 제27호에 따른 소득\\n\\n7. 퇴직소득. 다만, 제4호 각 목의 어느 하나에 해당하는 근로소득이 있는 사람이 퇴직함으로써 받는 소득은 제외한다.\\n\\n8. 대통령령으로 정하는 봉사료\\n\\n9. 대통령령으로 정하는 금융투자소득\\n\\n② 제1항에 따른 원천징수를 하여야 할 자(제1항제3호에 따른 소득의 경우에는 사업자 등 대통령령으로 정하는 자로 한정한다)를 대리하거나 그 위임을 받은 자의 행위는 수권(授權) 또는 위임의 범위에서 본인 또는 위임인의 행위로 보아 제1항을 적용한다.<개정 2009. 12. 31., 2010. 12. 27.>\\n\\n③ 금융회사등이 내국인이 발행한 어음, 채무증서, 주식 또는 집합투자증권(이하 이 조에서 “어음등”이라 한다)을 인수ㆍ매매ㆍ중개 또는 대리하는 경우에는 그 금융회사등과 해당 어음등을 발행한 자 간에 대리 또는 위임의 관계가 있는 것으로 보아 제2항을 적용한다.<개정 2010. 12. 27.>')]"
      ]
     },
     "execution_count": 9,
     "metadata": {},
     "output_type": "execute_result"
    }
   ],
   "source": [
    "query = \"프레임 레이트를 조정할 때 고려해야 하는 요소는 무엇인가요?\"\n",
    "dict_message = dictionary_chain.invoke({\"question\": query})\n",
    "retriever.invoke(query)\n"
   ]
  },
  {
   "cell_type": "code",
   "execution_count": 10,
   "id": "520c4da3",
   "metadata": {},
   "outputs": [
    {
     "data": {
      "text/plain": [
       "'연봉 7000만원인 거주자의 소득세는 얼마인가요?'"
      ]
     },
     "execution_count": 10,
     "metadata": {},
     "output_type": "execute_result"
    }
   ],
   "source": [
    "dict_message"
   ]
  },
  {
   "cell_type": "code",
   "execution_count": 11,
   "id": "f6c296d3",
   "metadata": {},
   "outputs": [
    {
     "data": {
      "text/plain": [
       "{'query': '연봉 7000만원인 거주자의 소득세는 얼마인가요?',\n",
       " 'result': '연봉 7,000만원인 거주자의 소득세는 624만원 + (7,000만원 - 5,000만원) * 24퍼센트로 계산됩니다. 따라서 총 소득세는 624만원 + 480만원 = 1,104만원입니다.'}"
      ]
     },
     "execution_count": 11,
     "metadata": {},
     "output_type": "execute_result"
    }
   ],
   "source": [
    "ai_message = camera_chain.invoke({\"question\": query})\n",
    "ai_message\n"
   ]
  }
 ],
 "metadata": {
  "kernelspec": {
   "display_name": "inflearn-llm-application",
   "language": "python",
   "name": "python3"
  },
  "language_info": {
   "codemirror_mode": {
    "name": "ipython",
    "version": 3
   },
   "file_extension": ".py",
   "mimetype": "text/x-python",
   "name": "python",
   "nbconvert_exporter": "python",
   "pygments_lexer": "ipython3",
   "version": "3.11.8"
  }
 },
 "nbformat": 4,
 "nbformat_minor": 5
}